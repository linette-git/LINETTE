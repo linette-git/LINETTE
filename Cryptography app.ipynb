{
 "cells": [
  {
   "cell_type": "code",
   "execution_count": 35,
   "metadata": {},
   "outputs": [],
   "source": [
    "#cryptography app\n",
    "import onetimepad\n",
    "#!pip install onetimepad\n",
    "\n",
    "from tkinter import *\n",
    "#import tkinter"
   ]
  },
  {
   "cell_type": "code",
   "execution_count": 36,
   "metadata": {},
   "outputs": [
    {
     "data": {
      "text/plain": [
       "''"
      ]
     },
     "execution_count": 36,
     "metadata": {},
     "output_type": "execute_result"
    }
   ],
   "source": [
    "    root = Tk()\n",
    "root.title(\"Cryptography App\")"
   ]
  },
  {
   "cell_type": "code",
   "execution_count": 37,
   "metadata": {},
   "outputs": [],
   "source": [
    "def encryptMessage():\n",
    "    a = var.get()\n",
    "    \n",
    "    ct = onetimepad.encrypt(a,\"letupgrade\")\n",
    "    print(\"Working\",ct)\n",
    "    e2.delete(0,END)\n",
    "    e2.insert(END,ct)\n",
    "def dycrptMessage():\n",
    "    a = var2.get()\n",
    "\n",
    "    ct = onetimepad.decrypt(a,\"letupgrade\")\n",
    "    print(\"Working\",ct)\n",
    "    e4.delete(0,END)\n",
    "    e4.insert(END,ct)       \n",
    "\n",
    "l1 = Label(root,text=\"Plain Text\")\n",
    "l1.grid(row=0,column=0)\n",
    "\n",
    "l3 = Label(root,text=\"Encypted Text\")\n",
    "l3.grid(row=0,column=2)\n",
    "\n",
    "var= StringVar()\n",
    "e1 = Entry(root,textvariable=var)\n",
    "e1.grid(row=0,column=1)\n",
    "\n",
    "var2= StringVar()\n",
    "e3 = Entry(root,textvariable=var2)\n",
    "e3.grid(row=0,column=3)\n",
    "\n",
    "\n",
    "l2 = Label(root,text=\"Encypted Text\")\n",
    "l2.grid(row=1,column=0)\n",
    "\n",
    "l4 = Label(root,text=\"Plain Text\")\n",
    "l4.grid(row=1,column=2)\n",
    "\n",
    "e2 = Entry(root)\n",
    "e2.grid(row=1,column=1)\n",
    "\n",
    "e4 = Entry(root)\n",
    "e4.grid(row=1,column=3)\n",
    "\n",
    "b1 = Button(root,text=\"Encyption\",bg=\"blue\",fg=\"Red\",command=encryptMessage)\n",
    "b1.grid(row=2,column=1)\n",
    "\n",
    "b2 = Button(root,text=\"Dycrption\",bg=\"blue\",fg=\"Red\",command=dycrptMessage)\n",
    "b2.grid(row=2,column=3)\n"
   ]
  },
  {
   "cell_type": "code",
   "execution_count": null,
   "metadata": {},
   "outputs": [],
   "source": [
    "root.mainloop()"
   ]
  },
  {
   "cell_type": "code",
   "execution_count": null,
   "metadata": {},
   "outputs": [],
   "source": []
  }
 ],
 "metadata": {
  "kernelspec": {
   "display_name": "Python 3",
   "language": "python",
   "name": "python3"
  },
  "language_info": {
   "codemirror_mode": {
    "name": "ipython",
    "version": 3
   },
   "file_extension": ".py",
   "mimetype": "text/x-python",
   "name": "python",
   "nbconvert_exporter": "python",
   "pygments_lexer": "ipython3",
   "version": "3.8.5"
  }
 },
 "nbformat": 4,
 "nbformat_minor": 4
}

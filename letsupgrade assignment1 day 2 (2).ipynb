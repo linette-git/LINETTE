{
 "cells": [
  {
   "cell_type": "markdown",
   "metadata": {},
   "source": [
    "# if x=5 then value of equations"
   ]
  },
  {
   "cell_type": "code",
   "execution_count": 2,
   "metadata": {},
   "outputs": [
    {
     "name": "stdout",
     "output_type": "stream",
     "text": [
      "Result is: 0.26785714285714285\n"
     ]
    }
   ],
   "source": [
    "x=5\n",
    "y=(2*x + 5)/(x**2 + 5*x + 6)\n",
    "print(\"Result is:\",y)"
   ]
  },
  {
   "cell_type": "code",
   "execution_count": 3,
   "metadata": {},
   "outputs": [
    {
     "name": "stdout",
     "output_type": "stream",
     "text": [
      "Result is: 3.7333333333333334\n"
     ]
    }
   ],
   "source": [
    "x=5\n",
    "y=(x**2 + 5*x + 6)/(2*x + 5)\n",
    "print(\"Result is:\",y)"
   ]
  },
  {
   "cell_type": "code",
   "execution_count": 5,
   "metadata": {},
   "outputs": [
    {
     "name": "stdout",
     "output_type": "stream",
     "text": [
      "Result is: 98\n"
     ]
    }
   ],
   "source": [
    "x=5\n",
    "y=(2*x-3)*(x+9)\n",
    "print(\"Result is:\",y)"
   ]
  },
  {
   "cell_type": "code",
   "execution_count": null,
   "metadata": {},
   "outputs": [
    {
     "name": "stdout",
     "output_type": "stream",
     "text": [
      "username: india\n",
      "password: india26\n",
      "\n",
      "login successful\n",
      "username: indi\n",
      "password: india26\n",
      "\n",
      "username is incorrect\n",
      "username: india\n",
      "password: ind\n",
      "\n",
      "password is incorrect\n",
      "username: ind\n",
      "password: 1234\n",
      "\n",
      "username is incorrect\n",
      "username: ind\n",
      "password: india26\n",
      "\n",
      "account blocked for 24hrs\n",
      "username is incorrect\n"
     ]
    }
   ],
   "source": [
    "attempts=0\n",
    "while True:\n",
    "    username=input(\"username: \")\n",
    "    password=input(\"password: \")\n",
    "    print()\n",
    "    \n",
    "    attempts+=1\n",
    "    if attempts==5:\n",
    "       print(\"account blocked for 24hrs\")\n",
    "        \n",
    "    if username=='india':\n",
    "        if password=='india26':\n",
    "            print(\"login successful\")\n",
    "            \n",
    "        else:\n",
    "            print(\"password is incorrect\")\n",
    "    \n",
    "    else:\n",
    "        print(\"username is incorrect\")\n",
    "        "
   ]
  },
  {
   "cell_type": "code",
   "execution_count": null,
   "metadata": {},
   "outputs": [],
   "source": []
  }
 ],
 "metadata": {
  "kernelspec": {
   "display_name": "Python 3",
   "language": "python",
   "name": "python3"
  },
  "language_info": {
   "codemirror_mode": {
    "name": "ipython",
    "version": 3
   },
   "file_extension": ".py",
   "mimetype": "text/x-python",
   "name": "python",
   "nbconvert_exporter": "python",
   "pygments_lexer": "ipython3",
   "version": "3.8.5"
  }
 },
 "nbformat": 4,
 "nbformat_minor": 4
}
